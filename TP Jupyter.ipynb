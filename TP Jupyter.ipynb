{
 "cells": [
  {
   "cell_type": "markdown",
   "id": "b2e5d3f7",
   "metadata": {},
   "source": [
    "# TP Jupyter\n",
    "\n",
    "## Installation\n",
    "\n",
    "Le moyen le plus simple pour installer Jupyter est d'installer Anaconda. Anaconda est une des distributions Python les plus utilisées actuellement. Certaines grandes bibliothèques Python sont incluses dans Anaconda comme numpy et matplotlib.\n",
    "\n",
    "Pour obtenir Anaconda, il suffit de :\n",
    "\n",
    " * Téléchargez la dernière version d'Anaconda ([lien vers la page de téléchargement](https://www.anaconda.com/products/individual)).\n",
    " * Installez Anaconda en suivant les instructions sur la page de téléchargement et/ou dans l'exécutable.\n",
    "\n",
    "Si vous êtes un utilisateur plus avancé avec Python déjà installé et préférez gérer vos packages manuellement, vous pouvez simplement utiliser pip :\n",
    "\n",
    "`pip3 install notebook`\n",
    "\n",
    "## Lancement de Jupyter\n",
    "\n",
    "Vous pouvez lancer Jupyter via le raccourci ajouté par l'installation de Anaconda (sur Windows) dans le menu de démarrage des applications (Anaconda > Jupyter). Cela ouvrira votre navigateur Internet par défaut sur un tableau de bord dédié à la gestion de vos notebooks. Naviger dans l'arborescence de vos fichiers afin de vous placer dans le répertoire dans lequel vous souhaitez créer votre notebook. \n",
    "\n",
    "Les notebooks et le tableau de bord de Jupyter sont des applications Web, et Jupyter démarre un serveur Python local pour servir ces applications à votre navigateur, le rendant indépendant de la plateforme et permetant un partage plus facile sur le Web. Votre notebook est donc pour l'instant hébergé et exécuté sur votre ordinateur local.\n",
    "\n",
    "Cliquer maintenant sur `New` (en haut à droite) et sélectionner `Notebook : Python 3`. Ceci va créer un notebook à l'emplacement choisi. Par défaut le notebook s'appelle `Untitled.ipynb` mais vous pouvez le changer en modifiant le nom du notebook en haut à gauche à côté du logo.\n",
    "\n",
    "Chaque fichier `.ipynb` est un fichier texte qui décrit le contenu de votre notebook au format JSON. Chaque cellule et son contenu, y compris les images jointes sont converties en chaînes de charactères (attention donc à la taille du fichier qui peut grandir rapidement si beaucoup d'images sont insérées), et y sont répertoriés certaines métadonnées.\n",
    "\n",
    "## L'interface du notebook\n",
    "\n",
    "Les menus et commandes sont assez intuitives, et restent proches d'un éditeur de texte classique. Familiarisez vous avec ces menus.\n",
    "\n",
    "Par défaut une cellule de code est ajoutée dans le notebook. Vous pouvez utiliser cette cellule pour exécuter du code Python, comme vous le feriez dans une console de l'interpréteur. Vous pouvez par exemple taper `2+2` puis `Ctrl + Entrée`pour exécuter le code (taper juste `Entrée` va simplement à la ligne dans le code). Essayez ainsi d'exécuter quelques bouts de code pour vérifier le bon fonctionnement (des `print`, des fonctions etc.), comme fait ci-dessous (cette page est un notebook Jupyter :-) )."
   ]
  },
  {
   "cell_type": "code",
   "execution_count": 15,
   "id": "271a7a2e",
   "metadata": {},
   "outputs": [
    {
     "data": {
      "text/plain": [
       "4"
      ]
     },
     "execution_count": 15,
     "metadata": {},
     "output_type": "execute_result"
    }
   ],
   "source": [
    "2+2"
   ]
  },
  {
   "cell_type": "code",
   "execution_count": 16,
   "id": "cd98ba58",
   "metadata": {},
   "outputs": [
    {
     "name": "stdout",
     "output_type": "stream",
     "text": [
      "Hello world\n"
     ]
    }
   ],
   "source": [
    "print(\"Hello world\")"
   ]
  },
  {
   "cell_type": "code",
   "execution_count": 17,
   "id": "b750cf3c",
   "metadata": {},
   "outputs": [
    {
     "name": "stdout",
     "output_type": "stream",
     "text": [
      "Game over\n",
      "Continue\n"
     ]
    }
   ],
   "source": [
    "def fonction(x):\n",
    "    if x==1:\n",
    "        print(\"Game over\")\n",
    "    else:\n",
    "        print(\"Continue\")\n",
    "\n",
    "fonction(1)\n",
    "fonction(0)"
   ]
  },
  {
   "cell_type": "markdown",
   "id": "b74d7279",
   "metadata": {},
   "source": [
    "Le plus gros intérêt d'un notebook est (en plus d'être une page en ligne partageable) de pouvoir écrire du texte entre les bouts de code. Cela permet donc assez facilement de par exemple donner un énoncé de TD ou TP où le code serait exécuter \"dans l'énoncé\", et non pas dans un IDE à part.\n",
    "\n",
    "Pour basculer rapidement une cellule du mode code au mode texte, sélectionner la cellule et taper simplement `M`. Pour faire la consersion inverse taper `Y`.\n",
    "\n",
    "Vous pouvez exécuter toutes les cellules de code (du haut du notebook au bas) en allant dans `Cell > Run All`.\n",
    "\n",
    "Les cellules de texte sont au format Markdown. Vous devez donc vous familiarisez avec ce format qui est très bien renseigner sur Internet (ex. ce [cheat-sheet](https://www.markdownguide.org/cheat-sheet/)). Vous pouvez ainsi très facilement organiser votre texte en section, mettre en gras, en italique, en code, faire des tables, ajouter des liens web, des images etc.\n",
    "\n",
    "De la même manière que les cellules de code, vous éditez vos cellules au format markdown puis vous pouvez visualisez le résultat en tapant `Ctrl + Entrée`. Pour rebasculer en mode édition vous pouvez simplement double cliquer sur la cellule à modifier.\n",
    "\n",
    "Familiarisez vous avec les raccourcis qui sont indiqués à côté des commandes dans les menus.\n",
    "\n",
    "## Le kernel\n",
    "\n",
    "Derrière chaque notebook s'exécute un noyau (kernel en anglais). Lorsque vous exécutez une cellule de code, ce code est exécuté dans le noyau. Toute sortie est renvoyée à la cellule pour être affichée. L'état du noyau persiste dans le temps et entre les cellules, c'est-à-dire qu'il concerne le notebook dans son ensemble et non les cellules individuelles.\n",
    "\n",
    "Par exemple, si vous importez des bibliothèques ou déclarez des variables dans une cellule, elles seront disponibles dans une autre cellule.\n",
    "\n",
    "Testons ceci en important un package Python et en définissant une fonction :"
   ]
  },
  {
   "cell_type": "code",
   "execution_count": 18,
   "id": "3409a681",
   "metadata": {},
   "outputs": [],
   "source": [
    "import numpy as np\n",
    "def carre(x):\n",
    "    return x * x"
   ]
  },
  {
   "cell_type": "markdown",
   "id": "746104f5",
   "metadata": {},
   "source": [
    "Une fois que nous avons exécuté la cellule ci-dessus (faîtes le), nous pouvons référencer `np` et `carre` dans n'importe cellule suivante."
   ]
  },
  {
   "cell_type": "code",
   "execution_count": 19,
   "id": "f50b272f",
   "metadata": {},
   "outputs": [
    {
     "name": "stdout",
     "output_type": "stream",
     "text": [
      "9 au carré est 81\n"
     ]
    }
   ],
   "source": [
    "x = np.random.randint(1, 10)\n",
    "y = carre(x)\n",
    "print('%d au carré est %d' % (x, y))"
   ]
  },
  {
   "cell_type": "markdown",
   "id": "021db5eb",
   "metadata": {},
   "source": [
    "Tant qu'une cellule a été exécutée, toutes les variables que vous avez déclarées ou les bibliothèques que vous avez importées seront disponibles dans les cellules suivantes."
   ]
  },
  {
   "cell_type": "markdown",
   "id": "415fd364",
   "metadata": {},
   "source": [
    "## Exporter le notebook\n",
    "\n",
    "Des sauvegardes sont faites régulièrement de votre notebook (le fichier `.ipynb`), mais vous pouvez aussi forcer la sauvegarde en cliquant sur l'icône de la disquette en haut à gauche.\n",
    "\n",
    "Notez que la fermeture de l'onglet du notebook dans votre navigateur ne \"fermera\" pas votre notebook de la même manière que la fermeture d'un document dans une application traditionnelle. Le noyau continuera à s'exécuter en arrière-plan et doit être arrêté avant qu'il ne soit vraiment «fermé».\n",
    "\n",
    "Si le noyau est arrêté, vous pouvez alors fermer l'onglet sans vous soucier de savoir s'il est toujours en cours d'exécution ou non.\n",
    "\n",
    "La façon la plus simple de le faire est de sélectionner `File > Close and Halt` dans le menu. Cependant, vous pouvez également arrêter le noyau soit en allant dans `Kernel > Shutdown` soit en sélectionnant le notebook dans le tableau de bord et en cliquant sur `Shutdown`.\n",
    "\n",
    "Un notebook exporté sera exactement dans l'état dans lequel il se trouvait lorsque vous l'exportez ou l'enregistrez, y compris la sortie de toutes les cellules de code.\n",
    "\n",
    "### Export statique\n",
    "\n",
    "Si vous voulez exporter votre notebook sans les sorties, vous pouvez suivre ces étapes avant de partager :\n",
    "\n",
    "1. Cliquez sur `Cell > All Output > Clear`\n",
    "2. Cliquez sur `Kernel > Restart & Run All`\n",
    "3. Attendez que vos cellules de code finissent de s'exécuter et vérifiez qu'elles ont fonctionné comme prévu\n",
    "\n",
    "Cela garantira que votre notebook ne contient pas de sortie intermédiaire, n'est pas dans un état périmé et s'exécute dans l'ordre.\n",
    "\n",
    "Si vous souhaitez exporter avec les cellules de sorties visibles (ex. une sorte de corrigé), alors exportez après avoir fait un `Cell > Run All`.\n",
    "\n",
    "Jupyter prend en charge l'exportation vers html, pdf, py ainsi que plusieurs autres formats, que vous pouvez trouver dans le menu sous `File > Download As`. Tester l'export vers plusieurs de ces formats.\n",
    "\n",
    "### Export dynamique\n",
    "\n",
    "Le principal intérêt du notebook est sa fonctionnalité interactive où une cellule (de code surtout) peut être remplie et exécutée en temps-réel.\n",
    "\n",
    "Par exemple, si le notebook demande d'écrire une fonction qui calcule le maximum d'un tableau passé en paramètre, vous pouvez laisser une cellule de code vide (à faire remplir par un élève) suivie d'une cellule qui va tester que la fonction est correcte."
   ]
  },
  {
   "cell_type": "code",
   "execution_count": 20,
   "id": "5026972a",
   "metadata": {},
   "outputs": [],
   "source": [
    "def maximum_eleve(tab):\n",
    "    # à vous !\n",
    "    pass"
   ]
  },
  {
   "cell_type": "code",
   "execution_count": 21,
   "id": "b9e4312c",
   "metadata": {},
   "outputs": [
    {
     "name": "stdout",
     "output_type": "stream",
     "text": [
      "La fonction maximum ne retourne pas le bon résultat\n"
     ]
    }
   ],
   "source": [
    "monTab=[5,4,8,1]\n",
    "max_obtenu = maximum_eleve(monTab)\n",
    "if max_obtenu==8: print(\"Bravo, vous avez trouvé le bon résultat\")\n",
    "else : print(\"La fonction maximum ne retourne pas le bon résultat\")"
   ]
  },
  {
   "cell_type": "markdown",
   "id": "e3c3f5ef",
   "metadata": {},
   "source": [
    "Afin de pouvoir éditer et exécuter un notebook exporté, il faut qu'un serveur l'exécute (comme c'est fait localement lorsque vous éditer votre notebook à vous actuellement). Il existe beaucoup de moyens différents (services et applications) pour le faire. L'un des plus populaires est sans doute de déposer le fichier notebook (`.ipynb`) sur un dépôt GitHub et d'utiliser mybinder pour l'exécuter sur un serveur.\n",
    "\n",
    "Pour cela, créer un nouveau projet sur [GitHub](https://github.com/) (créer un compte si vous n'en avez pas déjà). Déposer votre fichier notebook dedans (ex. à la racine du projet). Puis aller sur la page de création de [mybinder](https://mybinder.org/). Entrer les informations du dépôt et du chemin du fichier de notebook et lancer la création de dépôt, vous obtiendrez alors une URL donnant accès à la version éditable (des cellules de code) et exécutable de votre notebook."
   ]
  }
 ],
 "metadata": {
  "kernelspec": {
   "display_name": "Python 3",
   "language": "python",
   "name": "python3"
  },
  "language_info": {
   "codemirror_mode": {
    "name": "ipython",
    "version": 3
   },
   "file_extension": ".py",
   "mimetype": "text/x-python",
   "name": "python",
   "nbconvert_exporter": "python",
   "pygments_lexer": "ipython3",
   "version": "3.8.8"
  }
 },
 "nbformat": 4,
 "nbformat_minor": 5
}
